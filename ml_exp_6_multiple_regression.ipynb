{
  "cells": [
    {
      "cell_type": "code",
      "execution_count": null,
      "id": "d3471925",
      "metadata": {
        "id": "d3471925",
        "outputId": "7d6cb422-8f5e-4a28-8175-eaa78760e359"
      },
      "outputs": [
        {
          "data": {
            "text/html": [
              "<div>\n",
              "<style scoped>\n",
              "    .dataframe tbody tr th:only-of-type {\n",
              "        vertical-align: middle;\n",
              "    }\n",
              "\n",
              "    .dataframe tbody tr th {\n",
              "        vertical-align: top;\n",
              "    }\n",
              "\n",
              "    .dataframe thead th {\n",
              "        text-align: right;\n",
              "    }\n",
              "</style>\n",
              "<table border=\"1\" class=\"dataframe\">\n",
              "  <thead>\n",
              "    <tr style=\"text-align: right;\">\n",
              "      <th></th>\n",
              "      <th>Unnamed: 0</th>\n",
              "      <th>price</th>\n",
              "      <th>place</th>\n",
              "      <th>built</th>\n",
              "      <th>sqft</th>\n",
              "      <th>sale</th>\n",
              "      <th>yearsOld</th>\n",
              "      <th>floor</th>\n",
              "      <th>totalFloor</th>\n",
              "      <th>bhk</th>\n",
              "    </tr>\n",
              "  </thead>\n",
              "  <tbody>\n",
              "    <tr>\n",
              "      <th>0</th>\n",
              "      <td>1341</td>\n",
              "      <td>6300000</td>\n",
              "      <td>BTM Layout</td>\n",
              "      <td>Super built-up  Area</td>\n",
              "      <td>1450</td>\n",
              "      <td>Resale</td>\n",
              "      <td>5</td>\n",
              "      <td>1</td>\n",
              "      <td>4</td>\n",
              "      <td>1</td>\n",
              "    </tr>\n",
              "    <tr>\n",
              "      <th>1</th>\n",
              "      <td>2126</td>\n",
              "      <td>11500000</td>\n",
              "      <td>Yelahanka</td>\n",
              "      <td>Super built-up  Area</td>\n",
              "      <td>2190</td>\n",
              "      <td>Resale</td>\n",
              "      <td>5</td>\n",
              "      <td>3</td>\n",
              "      <td>5</td>\n",
              "      <td>3</td>\n",
              "    </tr>\n",
              "    <tr>\n",
              "      <th>2</th>\n",
              "      <td>816</td>\n",
              "      <td>3800000</td>\n",
              "      <td>Whitefield</td>\n",
              "      <td>Super built-up  Area</td>\n",
              "      <td>1019</td>\n",
              "      <td>Resale</td>\n",
              "      <td>1</td>\n",
              "      <td>2</td>\n",
              "      <td>5</td>\n",
              "      <td>2</td>\n",
              "    </tr>\n",
              "    <tr>\n",
              "      <th>3</th>\n",
              "      <td>2708</td>\n",
              "      <td>10500000</td>\n",
              "      <td>Ambalipura</td>\n",
              "      <td>Super built-up  Area</td>\n",
              "      <td>1857</td>\n",
              "      <td>Resale</td>\n",
              "      <td>15</td>\n",
              "      <td>4</td>\n",
              "      <td>5</td>\n",
              "      <td>4</td>\n",
              "    </tr>\n",
              "    <tr>\n",
              "      <th>4</th>\n",
              "      <td>1041</td>\n",
              "      <td>11500000</td>\n",
              "      <td>Yelahanka</td>\n",
              "      <td>Super built-up  Area</td>\n",
              "      <td>2190</td>\n",
              "      <td>Resale</td>\n",
              "      <td>5</td>\n",
              "      <td>3</td>\n",
              "      <td>5</td>\n",
              "      <td>3</td>\n",
              "    </tr>\n",
              "  </tbody>\n",
              "</table>\n",
              "</div>"
            ],
            "text/plain": [
              "   Unnamed: 0     price       place                 built  sqft    sale  \\\n",
              "0        1341   6300000  BTM Layout  Super built-up  Area  1450  Resale   \n",
              "1        2126  11500000   Yelahanka  Super built-up  Area  2190  Resale   \n",
              "2         816   3800000  Whitefield  Super built-up  Area  1019  Resale   \n",
              "3        2708  10500000  Ambalipura  Super built-up  Area  1857  Resale   \n",
              "4        1041  11500000   Yelahanka  Super built-up  Area  2190  Resale   \n",
              "\n",
              "   yearsOld  floor  totalFloor  bhk  \n",
              "0         5      1           4    1  \n",
              "1         5      3           5    3  \n",
              "2         1      2           5    2  \n",
              "3        15      4           5    4  \n",
              "4         5      3           5    3  "
            ]
          },
          "execution_count": 14,
          "metadata": {},
          "output_type": "execute_result"
        }
      ],
      "source": [
        "import pandas as pd\n",
        "import matplotlib.pyplot as plt\n",
        "from sklearn.metrics import r2_score,mean_absolute_error,mean_squared_error\n",
        "from sklearn.model_selection import train_test_split\n",
        "from sklearn.linear_model import LinearRegression\n",
        "from sklearn.preprocessing import OneHotEncoder,LabelEncoder\n",
        "df=pd.read_csv('hp_data.csv')\n",
        "df.head()"
      ]
    },
    {
      "cell_type": "code",
      "execution_count": null,
      "id": "04a841b2",
      "metadata": {
        "id": "04a841b2",
        "outputId": "7d5f254d-8b8b-45c5-cf74-be4faf5e44c7"
      },
      "outputs": [
        {
          "data": {
            "text/plain": [
              "(3500, 10)"
            ]
          },
          "execution_count": 15,
          "metadata": {},
          "output_type": "execute_result"
        }
      ],
      "source": [
        "df.shape"
      ]
    },
    {
      "cell_type": "code",
      "execution_count": null,
      "id": "fb371fb3",
      "metadata": {
        "id": "fb371fb3",
        "outputId": "9d127deb-9379-4c40-dee1-22ac60a38bcb"
      },
      "outputs": [
        {
          "name": "stderr",
          "output_type": "stream",
          "text": [
            "/home/me3-lab/anaconda3/lib/python3.10/site-packages/sklearn/preprocessing/_encoders.py:972: FutureWarning: `sparse` was renamed to `sparse_output` in version 1.2 and will be removed in 1.4. `sparse_output` is ignored unless you leave `sparse` to its default value.\n",
            "  warnings.warn(\n"
          ]
        }
      ],
      "source": [
        "label_encoder = LabelEncoder()\n",
        "df[\"place\"] = label_encoder.fit_transform(df[\"place\"])\n",
        "encoder = OneHotEncoder(sparse=False, drop='first')\n",
        "df[\"place\"] = encoder.fit_transform(df[[\"place\"]])"
      ]
    },
    {
      "cell_type": "code",
      "execution_count": null,
      "id": "7c1db0d8",
      "metadata": {
        "id": "7c1db0d8",
        "outputId": "3e727d1b-8934-4942-89cf-205ba8f4adff"
      },
      "outputs": [
        {
          "data": {
            "text/html": [
              "<div>\n",
              "<style scoped>\n",
              "    .dataframe tbody tr th:only-of-type {\n",
              "        vertical-align: middle;\n",
              "    }\n",
              "\n",
              "    .dataframe tbody tr th {\n",
              "        vertical-align: top;\n",
              "    }\n",
              "\n",
              "    .dataframe thead th {\n",
              "        text-align: right;\n",
              "    }\n",
              "</style>\n",
              "<table border=\"1\" class=\"dataframe\">\n",
              "  <thead>\n",
              "    <tr style=\"text-align: right;\">\n",
              "      <th></th>\n",
              "      <th>Unnamed: 0</th>\n",
              "      <th>price</th>\n",
              "      <th>place</th>\n",
              "      <th>built</th>\n",
              "      <th>sqft</th>\n",
              "      <th>sale</th>\n",
              "      <th>yearsOld</th>\n",
              "      <th>floor</th>\n",
              "      <th>totalFloor</th>\n",
              "      <th>bhk</th>\n",
              "    </tr>\n",
              "  </thead>\n",
              "  <tbody>\n",
              "    <tr>\n",
              "      <th>0</th>\n",
              "      <td>1341</td>\n",
              "      <td>6300000</td>\n",
              "      <td>0.0</td>\n",
              "      <td>Super built-up  Area</td>\n",
              "      <td>1450</td>\n",
              "      <td>Resale</td>\n",
              "      <td>5</td>\n",
              "      <td>1</td>\n",
              "      <td>4</td>\n",
              "      <td>1</td>\n",
              "    </tr>\n",
              "    <tr>\n",
              "      <th>1</th>\n",
              "      <td>2126</td>\n",
              "      <td>11500000</td>\n",
              "      <td>0.0</td>\n",
              "      <td>Super built-up  Area</td>\n",
              "      <td>2190</td>\n",
              "      <td>Resale</td>\n",
              "      <td>5</td>\n",
              "      <td>3</td>\n",
              "      <td>5</td>\n",
              "      <td>3</td>\n",
              "    </tr>\n",
              "    <tr>\n",
              "      <th>2</th>\n",
              "      <td>816</td>\n",
              "      <td>3800000</td>\n",
              "      <td>0.0</td>\n",
              "      <td>Super built-up  Area</td>\n",
              "      <td>1019</td>\n",
              "      <td>Resale</td>\n",
              "      <td>1</td>\n",
              "      <td>2</td>\n",
              "      <td>5</td>\n",
              "      <td>2</td>\n",
              "    </tr>\n",
              "    <tr>\n",
              "      <th>3</th>\n",
              "      <td>2708</td>\n",
              "      <td>10500000</td>\n",
              "      <td>1.0</td>\n",
              "      <td>Super built-up  Area</td>\n",
              "      <td>1857</td>\n",
              "      <td>Resale</td>\n",
              "      <td>15</td>\n",
              "      <td>4</td>\n",
              "      <td>5</td>\n",
              "      <td>4</td>\n",
              "    </tr>\n",
              "    <tr>\n",
              "      <th>4</th>\n",
              "      <td>1041</td>\n",
              "      <td>11500000</td>\n",
              "      <td>0.0</td>\n",
              "      <td>Super built-up  Area</td>\n",
              "      <td>2190</td>\n",
              "      <td>Resale</td>\n",
              "      <td>5</td>\n",
              "      <td>3</td>\n",
              "      <td>5</td>\n",
              "      <td>3</td>\n",
              "    </tr>\n",
              "  </tbody>\n",
              "</table>\n",
              "</div>"
            ],
            "text/plain": [
              "   Unnamed: 0     price  place                 built  sqft    sale  yearsOld  \\\n",
              "0        1341   6300000    0.0  Super built-up  Area  1450  Resale         5   \n",
              "1        2126  11500000    0.0  Super built-up  Area  2190  Resale         5   \n",
              "2         816   3800000    0.0  Super built-up  Area  1019  Resale         1   \n",
              "3        2708  10500000    1.0  Super built-up  Area  1857  Resale        15   \n",
              "4        1041  11500000    0.0  Super built-up  Area  2190  Resale         5   \n",
              "\n",
              "   floor  totalFloor  bhk  \n",
              "0      1           4    1  \n",
              "1      3           5    3  \n",
              "2      2           5    2  \n",
              "3      4           5    4  \n",
              "4      3           5    3  "
            ]
          },
          "execution_count": 17,
          "metadata": {},
          "output_type": "execute_result"
        }
      ],
      "source": [
        "df.head()"
      ]
    },
    {
      "cell_type": "code",
      "execution_count": null,
      "id": "bfa4af94",
      "metadata": {
        "id": "bfa4af94"
      },
      "outputs": [],
      "source": [
        "df.drop(columns=['Unnamed: 0','built','sale'],inplace=True)"
      ]
    },
    {
      "cell_type": "code",
      "execution_count": null,
      "id": "06645b7e",
      "metadata": {
        "id": "06645b7e",
        "outputId": "966c6bd4-6c8d-440b-87c1-fec234f8fc5a"
      },
      "outputs": [
        {
          "data": {
            "text/html": [
              "<div>\n",
              "<style scoped>\n",
              "    .dataframe tbody tr th:only-of-type {\n",
              "        vertical-align: middle;\n",
              "    }\n",
              "\n",
              "    .dataframe tbody tr th {\n",
              "        vertical-align: top;\n",
              "    }\n",
              "\n",
              "    .dataframe thead th {\n",
              "        text-align: right;\n",
              "    }\n",
              "</style>\n",
              "<table border=\"1\" class=\"dataframe\">\n",
              "  <thead>\n",
              "    <tr style=\"text-align: right;\">\n",
              "      <th></th>\n",
              "      <th>price</th>\n",
              "      <th>place</th>\n",
              "      <th>sqft</th>\n",
              "      <th>yearsOld</th>\n",
              "      <th>floor</th>\n",
              "      <th>totalFloor</th>\n",
              "      <th>bhk</th>\n",
              "    </tr>\n",
              "  </thead>\n",
              "  <tbody>\n",
              "    <tr>\n",
              "      <th>0</th>\n",
              "      <td>6300000</td>\n",
              "      <td>0.0</td>\n",
              "      <td>1450</td>\n",
              "      <td>5</td>\n",
              "      <td>1</td>\n",
              "      <td>4</td>\n",
              "      <td>1</td>\n",
              "    </tr>\n",
              "    <tr>\n",
              "      <th>1</th>\n",
              "      <td>11500000</td>\n",
              "      <td>0.0</td>\n",
              "      <td>2190</td>\n",
              "      <td>5</td>\n",
              "      <td>3</td>\n",
              "      <td>5</td>\n",
              "      <td>3</td>\n",
              "    </tr>\n",
              "    <tr>\n",
              "      <th>2</th>\n",
              "      <td>3800000</td>\n",
              "      <td>0.0</td>\n",
              "      <td>1019</td>\n",
              "      <td>1</td>\n",
              "      <td>2</td>\n",
              "      <td>5</td>\n",
              "      <td>2</td>\n",
              "    </tr>\n",
              "    <tr>\n",
              "      <th>3</th>\n",
              "      <td>10500000</td>\n",
              "      <td>1.0</td>\n",
              "      <td>1857</td>\n",
              "      <td>15</td>\n",
              "      <td>4</td>\n",
              "      <td>5</td>\n",
              "      <td>4</td>\n",
              "    </tr>\n",
              "    <tr>\n",
              "      <th>4</th>\n",
              "      <td>11500000</td>\n",
              "      <td>0.0</td>\n",
              "      <td>2190</td>\n",
              "      <td>5</td>\n",
              "      <td>3</td>\n",
              "      <td>5</td>\n",
              "      <td>3</td>\n",
              "    </tr>\n",
              "  </tbody>\n",
              "</table>\n",
              "</div>"
            ],
            "text/plain": [
              "      price  place  sqft  yearsOld  floor  totalFloor  bhk\n",
              "0   6300000    0.0  1450         5      1           4    1\n",
              "1  11500000    0.0  2190         5      3           5    3\n",
              "2   3800000    0.0  1019         1      2           5    2\n",
              "3  10500000    1.0  1857        15      4           5    4\n",
              "4  11500000    0.0  2190         5      3           5    3"
            ]
          },
          "execution_count": 19,
          "metadata": {},
          "output_type": "execute_result"
        }
      ],
      "source": [
        "df.head()"
      ]
    },
    {
      "cell_type": "code",
      "execution_count": null,
      "id": "d3d14b72",
      "metadata": {
        "id": "d3d14b72"
      },
      "outputs": [],
      "source": [
        "x_train,x_test,y_train,y_test=train_test_split(df.iloc[:,1:],df.iloc[:,0],random_state=3)"
      ]
    },
    {
      "cell_type": "code",
      "execution_count": null,
      "id": "2cbf4471",
      "metadata": {
        "id": "2cbf4471",
        "outputId": "af501aea-87a4-4996-9919-4b892924bb95"
      },
      "outputs": [
        {
          "data": {
            "text/plain": [
              "((2625, 6), (875, 6))"
            ]
          },
          "execution_count": 46,
          "metadata": {},
          "output_type": "execute_result"
        }
      ],
      "source": [
        "x_train.shape,x_test.shape"
      ]
    },
    {
      "cell_type": "code",
      "execution_count": null,
      "id": "c3531682",
      "metadata": {
        "id": "c3531682",
        "outputId": "33d13788-0a55-4f9a-ac4f-5c3ecad0137b"
      },
      "outputs": [
        {
          "data": {
            "text/html": [
              "<style>#sk-container-id-1 {color: black;}#sk-container-id-1 pre{padding: 0;}#sk-container-id-1 div.sk-toggleable {background-color: white;}#sk-container-id-1 label.sk-toggleable__label {cursor: pointer;display: block;width: 100%;margin-bottom: 0;padding: 0.3em;box-sizing: border-box;text-align: center;}#sk-container-id-1 label.sk-toggleable__label-arrow:before {content: \"▸\";float: left;margin-right: 0.25em;color: #696969;}#sk-container-id-1 label.sk-toggleable__label-arrow:hover:before {color: black;}#sk-container-id-1 div.sk-estimator:hover label.sk-toggleable__label-arrow:before {color: black;}#sk-container-id-1 div.sk-toggleable__content {max-height: 0;max-width: 0;overflow: hidden;text-align: left;background-color: #f0f8ff;}#sk-container-id-1 div.sk-toggleable__content pre {margin: 0.2em;color: black;border-radius: 0.25em;background-color: #f0f8ff;}#sk-container-id-1 input.sk-toggleable__control:checked~div.sk-toggleable__content {max-height: 200px;max-width: 100%;overflow: auto;}#sk-container-id-1 input.sk-toggleable__control:checked~label.sk-toggleable__label-arrow:before {content: \"▾\";}#sk-container-id-1 div.sk-estimator input.sk-toggleable__control:checked~label.sk-toggleable__label {background-color: #d4ebff;}#sk-container-id-1 div.sk-label input.sk-toggleable__control:checked~label.sk-toggleable__label {background-color: #d4ebff;}#sk-container-id-1 input.sk-hidden--visually {border: 0;clip: rect(1px 1px 1px 1px);clip: rect(1px, 1px, 1px, 1px);height: 1px;margin: -1px;overflow: hidden;padding: 0;position: absolute;width: 1px;}#sk-container-id-1 div.sk-estimator {font-family: monospace;background-color: #f0f8ff;border: 1px dotted black;border-radius: 0.25em;box-sizing: border-box;margin-bottom: 0.5em;}#sk-container-id-1 div.sk-estimator:hover {background-color: #d4ebff;}#sk-container-id-1 div.sk-parallel-item::after {content: \"\";width: 100%;border-bottom: 1px solid gray;flex-grow: 1;}#sk-container-id-1 div.sk-label:hover label.sk-toggleable__label {background-color: #d4ebff;}#sk-container-id-1 div.sk-serial::before {content: \"\";position: absolute;border-left: 1px solid gray;box-sizing: border-box;top: 0;bottom: 0;left: 50%;z-index: 0;}#sk-container-id-1 div.sk-serial {display: flex;flex-direction: column;align-items: center;background-color: white;padding-right: 0.2em;padding-left: 0.2em;position: relative;}#sk-container-id-1 div.sk-item {position: relative;z-index: 1;}#sk-container-id-1 div.sk-parallel {display: flex;align-items: stretch;justify-content: center;background-color: white;position: relative;}#sk-container-id-1 div.sk-item::before, #sk-container-id-1 div.sk-parallel-item::before {content: \"\";position: absolute;border-left: 1px solid gray;box-sizing: border-box;top: 0;bottom: 0;left: 50%;z-index: -1;}#sk-container-id-1 div.sk-parallel-item {display: flex;flex-direction: column;z-index: 1;position: relative;background-color: white;}#sk-container-id-1 div.sk-parallel-item:first-child::after {align-self: flex-end;width: 50%;}#sk-container-id-1 div.sk-parallel-item:last-child::after {align-self: flex-start;width: 50%;}#sk-container-id-1 div.sk-parallel-item:only-child::after {width: 0;}#sk-container-id-1 div.sk-dashed-wrapped {border: 1px dashed gray;margin: 0 0.4em 0.5em 0.4em;box-sizing: border-box;padding-bottom: 0.4em;background-color: white;}#sk-container-id-1 div.sk-label label {font-family: monospace;font-weight: bold;display: inline-block;line-height: 1.2em;}#sk-container-id-1 div.sk-label-container {text-align: center;}#sk-container-id-1 div.sk-container {/* jupyter's `normalize.less` sets `[hidden] { display: none; }` but bootstrap.min.css set `[hidden] { display: none !important; }` so we also need the `!important` here to be able to override the default hidden behavior on the sphinx rendered scikit-learn.org. See: https://github.com/scikit-learn/scikit-learn/issues/21755 */display: inline-block !important;position: relative;}#sk-container-id-1 div.sk-text-repr-fallback {display: none;}</style><div id=\"sk-container-id-1\" class=\"sk-top-container\"><div class=\"sk-text-repr-fallback\"><pre>LinearRegression()</pre><b>In a Jupyter environment, please rerun this cell to show the HTML representation or trust the notebook. <br />On GitHub, the HTML representation is unable to render, please try loading this page with nbviewer.org.</b></div><div class=\"sk-container\" hidden><div class=\"sk-item\"><div class=\"sk-estimator sk-toggleable\"><input class=\"sk-toggleable__control sk-hidden--visually\" id=\"sk-estimator-id-1\" type=\"checkbox\" checked><label for=\"sk-estimator-id-1\" class=\"sk-toggleable__label sk-toggleable__label-arrow\">LinearRegression</label><div class=\"sk-toggleable__content\"><pre>LinearRegression()</pre></div></div></div></div></div>"
            ],
            "text/plain": [
              "LinearRegression()"
            ]
          },
          "execution_count": 22,
          "metadata": {},
          "output_type": "execute_result"
        }
      ],
      "source": [
        "model=LinearRegression()\n",
        "model.fit(x_train,y_train)"
      ]
    },
    {
      "cell_type": "code",
      "execution_count": null,
      "id": "af79fbbf",
      "metadata": {
        "id": "af79fbbf",
        "outputId": "92ad2203-1b73-495c-87d0-a1b281b2471d"
      },
      "outputs": [
        {
          "data": {
            "text/plain": [
              "-10842452.827111583"
            ]
          },
          "execution_count": 23,
          "metadata": {},
          "output_type": "execute_result"
        }
      ],
      "source": [
        "model.intercept_"
      ]
    },
    {
      "cell_type": "code",
      "execution_count": null,
      "id": "397b6ad5",
      "metadata": {
        "id": "397b6ad5",
        "outputId": "55fa1ea6-73b4-4c7b-9c44-04a0865f0ddb"
      },
      "outputs": [
        {
          "data": {
            "text/plain": [
              "array([2055750.37313922,    8474.52385186,   41148.94659672,\n",
              "       -890113.96876795, 2010637.84245318, -890113.96876793])"
            ]
          },
          "execution_count": 24,
          "metadata": {},
          "output_type": "execute_result"
        }
      ],
      "source": [
        "model.coef_"
      ]
    },
    {
      "cell_type": "code",
      "execution_count": null,
      "id": "49317636",
      "metadata": {
        "id": "49317636"
      },
      "outputs": [],
      "source": [
        "y_predict=model.predict(x_test)"
      ]
    },
    {
      "cell_type": "code",
      "execution_count": null,
      "id": "11a089c5",
      "metadata": {
        "id": "11a089c5",
        "outputId": "559297a0-c9ae-4f12-ffca-2272f7ff0b98"
      },
      "outputs": [
        {
          "data": {
            "text/plain": [
              "array([ 4326969.26172193, 13163451.31847771,  6000788.69336132,\n",
              "        1387135.70012022,  4326969.26172193,  7913674.92334203,\n",
              "       10500000.00000001,  4326969.26172193,  7102476.79410278,\n",
              "        4326969.26172193, 10500000.00000001,  6000788.69336132,\n",
              "        7102476.79410278,  7913674.92334203,  4326969.26172193,\n",
              "        4326969.26172193,  8629220.74609707, 10500000.00000001,\n",
              "       10500000.00000001,  7102476.79410278,  1387135.70012022,\n",
              "       13163451.31847771, 13163451.31847771,  7913674.92334203,\n",
              "       12635004.54109791,  7913674.92334203, 12635004.54109791,\n",
              "        5347094.49947664,  6000788.69336132,  5347094.49947664,\n",
              "       13163451.31847771,  6000788.69336132,  7102476.79410278,\n",
              "       12635004.54109791,  6000788.69336132, 13163451.31847771,\n",
              "        1387135.70012022, 12635004.54109791,  7102476.79410278,\n",
              "        5347094.49947664, 12635004.54109791, 12635004.54109791,\n",
              "        7102476.79410278,  7913674.92334203,  5347094.49947664,\n",
              "        6000788.69336132,  1387135.70012022,  7913674.92334203,\n",
              "        7102476.79410278, 12635004.54109791,  8629220.74609707,\n",
              "        5347094.49947664,  5347094.49947664,  1387135.70012022,\n",
              "        1387135.70012022,  7913674.92334203,  1387135.70012022,\n",
              "        6000788.69336132,  4326969.26172193,  6000788.69336132,\n",
              "        7102476.79410278, 13163451.31847771,  1387135.70012022,\n",
              "        4326969.26172193,  8629220.74609707, 13163451.31847771,\n",
              "        1387135.70012022,  6000788.69336132, 13163451.31847771,\n",
              "        7913674.92334203, 12635004.54109791,  6000788.69336132,\n",
              "        4326969.26172193, 13163451.31847771,  4326969.26172193,\n",
              "        5347094.49947664,  7102476.79410278, 12635004.54109791,\n",
              "       13163451.31847771,  8629220.74609707,  6000788.69336132,\n",
              "       13163451.31847771,  4326969.26172193,  5347094.49947664,\n",
              "        7102476.79410278,  7913674.92334203, 13163451.31847771,\n",
              "        4326969.26172193, 10500000.00000001, 10500000.00000001,\n",
              "        8629220.74609707,  6000788.69336132, 12635004.54109791,\n",
              "       13163451.31847771, 10500000.00000001, 12635004.54109791,\n",
              "        5347094.49947664,  6000788.69336132,  7913674.92334203,\n",
              "       47289085.50055341,  5347094.49947664, 10500000.00000001,\n",
              "        7913674.92334203,  8629220.74609707,  6000788.69336132,\n",
              "        7913674.92334203,  5347094.49947664,  8629220.74609707,\n",
              "        7913674.92334203,  5347094.49947664,  1387135.70012022,\n",
              "       13163451.31847771,  7913674.92334203, 13163451.31847771,\n",
              "        4326969.26172193, 13163451.31847771, 12635004.54109791,\n",
              "        8629220.74609707,  5347094.49947664,  5347094.49947664,\n",
              "        7102476.79410278,  1387135.70012022,  7913674.92334203,\n",
              "       12635004.54109791,  1387135.70012022,  7913674.92334203,\n",
              "       13163451.31847771,  8629220.74609707,  1387135.70012022,\n",
              "        7102476.79410278, 10500000.00000001, 17042334.87270955,\n",
              "       10500000.00000001,  5347094.49947664, 10500000.00000001,\n",
              "        5347094.49947664,  7102476.79410278, 12635004.54109791,\n",
              "        6000788.69336132, 12635004.54109791,  8629220.74609707,\n",
              "        7913674.92334203,  4326969.26172193,  8629220.74609707,\n",
              "        4326969.26172193,  4326969.26172193,  5347094.49947664,\n",
              "       10500000.00000001,  7102476.79410278,  4326969.26172193,\n",
              "        5347094.49947664,  8629220.74609707,  8629220.74609707,\n",
              "        1387135.70012022, 10500000.00000001, 10500000.00000001,\n",
              "        4326969.26172193, 13163451.31847771,  6000788.69336132,\n",
              "        5347094.49947664,  5347094.49947664,  1387135.70012022,\n",
              "       10500000.00000001, 13163451.31847771,  6000788.69336132,\n",
              "       10500000.00000001,  6000788.69336132,  8629220.74609707,\n",
              "       12635004.54109791, 13163451.31847771, 10500000.00000001,\n",
              "        6000788.69336132,  7102476.79410278,  6000788.69336132,\n",
              "       13163451.31847771, 12635004.54109791,  8629220.74609707,\n",
              "       10500000.00000001, 13163451.31847771,  8629220.74609707,\n",
              "       12635004.54109791,  7913674.92334203, 12635004.54109791,\n",
              "        6000788.69336132,  8629220.74609707,  7102476.79410278,\n",
              "       33423192.02068002,  1387135.70012022, 12635004.54109791,\n",
              "       13163451.31847771, 13163451.31847771,  6000788.69336132,\n",
              "        4326969.26172193,  6000788.69336132,  7102476.79410278,\n",
              "       13163451.31847771,  8629220.74609707,  1387135.70012022,\n",
              "       12635004.54109791,  4326969.26172193,  6000788.69336132,\n",
              "        4326969.26172193,  7913674.92334203,  1387135.70012022,\n",
              "        4326969.26172193,  6000788.69336132,  5347094.49947664,\n",
              "        7102476.79410278,  1387135.70012022,  8629220.74609707,\n",
              "        6000788.69336132,  5347094.49947664, 12635004.54109791,\n",
              "        8629220.74609707,  6000788.69336132,  5347094.49947664,\n",
              "        7913674.92334203, 10500000.00000001,  5347094.49947664,\n",
              "       12635004.54109791,  7102476.79410278,  4326969.26172193,\n",
              "       12635004.54109791, 10500000.00000001,  5347094.49947664,\n",
              "        6000788.69336132, 13163451.31847771, 12635004.54109791,\n",
              "        1387135.70012022,  7102476.79410278,  8629220.74609707,\n",
              "       10500000.00000001,  4326969.26172193,  5347094.49947664,\n",
              "        7913674.92334203,  8629220.74609707, 10500000.00000001,\n",
              "        6000788.69336132,  5347094.49947664, 13163451.31847771,\n",
              "        1387135.70012022, 12635004.54109791, 10500000.00000001,\n",
              "        6000788.69336132, 13163451.31847771,  5347094.49947664,\n",
              "        7913674.92334203,  4326969.26172193, 12635004.54109791,\n",
              "        5347094.49947664,  8629220.74609707,  6000788.69336132,\n",
              "       12635004.54109791, 13163451.31847771, 10500000.00000001,\n",
              "        7102476.79410278,  7102476.79410278,  7102476.79410278,\n",
              "       10500000.00000001, 13163451.31847771,  7913674.92334203,\n",
              "        7102476.79410278,  1387135.70012022,  7913674.92334203,\n",
              "       12635004.54109791,  6000788.69336132, 10500000.00000001,\n",
              "        6000788.69336132,  7913674.92334203, 12635004.54109791,\n",
              "        8629220.74609707,  7117069.68126744,  5347094.49947664,\n",
              "        1387135.70012022,  6000788.69336132,  7913674.92334203,\n",
              "       10500000.00000001,  8629220.74609707,  1387135.70012022,\n",
              "       13163451.31847771,  8629220.74609707, 12635004.54109791,\n",
              "       13163451.31847771,  8629220.74609707, 12635004.54109791,\n",
              "       29878989.75260402,  7102476.79410278,  7102476.79410278,\n",
              "        7102476.79410278, 10500000.00000001, 12635004.54109791,\n",
              "        5347094.49947664, 13163451.31847771,  6000788.69336132,\n",
              "        7102476.79410278, 10500000.00000001,  7913674.92334203,\n",
              "        5347094.49947664, 12635004.54109791,  1387135.70012022,\n",
              "        7102476.79410278,  7102476.79410278,  4326969.26172193,\n",
              "       13163451.31847771,  8629220.74609707, 29878989.75260402,\n",
              "        1387135.70012022,  7102476.79410278, 10500000.00000001,\n",
              "       10500000.00000001,  1387135.70012022,  1387135.70012022,\n",
              "        4326969.26172193,  7102476.79410278, 10500000.00000001,\n",
              "        7913674.92334203, 13163451.31847771,  6000788.69336132,\n",
              "        7102476.79410278, 12635004.54109791,  5347094.49947664,\n",
              "        6000788.69336132,  7913674.92334203,  8629220.74609707,\n",
              "        4326969.26172193,  1387135.70012022, 12635004.54109791,\n",
              "        7117069.68126744,  7117069.68126744,  1387135.70012022,\n",
              "       13163451.31847771, 10500000.00000001, 13163451.31847771,\n",
              "        7102476.79410278,  1387135.70012022,  6000788.69336132,\n",
              "       12635004.54109791,  7102476.79410278,  7102476.79410278,\n",
              "        8629220.74609707, 12635004.54109791, 13163451.31847771,\n",
              "        5347094.49947664,  7913674.92334203, 12635004.54109791,\n",
              "       13163451.31847771,  7913674.92334203,  5347094.49947664,\n",
              "       13163451.31847771,  8629220.74609707,  5347094.49947664,\n",
              "        1387135.70012022,  7913674.92334203, 13163451.31847771,\n",
              "        8629220.74609707, 10500000.00000001,  6000788.69336132,\n",
              "        8629220.74609707,  1387135.70012022,  8629220.74609707,\n",
              "        6000788.69336132, 10500000.00000001, 10500000.00000001,\n",
              "        7913674.92334203,  4326969.26172193, 12635004.54109791,\n",
              "        8629220.74609707,  7913674.92334203,  7102476.79410278,\n",
              "        8629220.74609707, 10500000.00000001,  5347094.49947664,\n",
              "        5347094.49947664, 13163451.31847771, 12635004.54109791,\n",
              "        4326969.26172193,  7102476.79410278,  7102476.79410278,\n",
              "        4326969.26172193, 12635004.54109791, 13163451.31847771,\n",
              "       13163451.31847771,  1387135.70012022,  7102476.79410278,\n",
              "        8629220.74609707,  6000788.69336132, 13163451.31847771,\n",
              "        8629220.74609707,  7102476.79410278,  5347094.49947664,\n",
              "       12635004.54109791,  1387135.70012022,  1387135.70012022,\n",
              "        1387135.70012022,  1387135.70012022, 12635004.54109791,\n",
              "        6000788.69336132,  7913674.92334203, 13163451.31847771,\n",
              "        1387135.70012022,  4326969.26172193,  5347094.49947664,\n",
              "        4326969.26172193, 13163451.31847771,  7913674.92334203,\n",
              "        5347094.49947664,  7102476.79410278, 13163451.31847771,\n",
              "        1387135.70012022,  1387135.70012022, 13163451.31847771,\n",
              "       13163451.31847771, 33423192.02068002, 12635004.54109791,\n",
              "        7117069.68126744, 10500000.00000001, 10500000.00000001,\n",
              "        5347094.49947664, 12635004.54109791,  6000788.69336132,\n",
              "        7913674.92334203,  7102476.79410278, 10500000.00000001,\n",
              "       13163451.31847771,  1387135.70012022,  5347094.49947664,\n",
              "        1387135.70012022, 13163451.31847771,  4326969.26172193,\n",
              "        8629220.74609707,  7102476.79410278, 13163451.31847771,\n",
              "        6000788.69336132, 10500000.00000001,  7102476.79410278,\n",
              "       13163451.31847771,  1387135.70012022, 12635004.54109791,\n",
              "       12635004.54109791,  7913674.92334203,  7102476.79410278,\n",
              "       12635004.54109791, 10500000.00000001,  8629220.74609707,\n",
              "       10500000.00000001,  5347094.49947664,  1387135.70012022,\n",
              "       12635004.54109791, 10500000.00000001,  1387135.70012022,\n",
              "        6000788.69336132,  6000788.69336132,  7913674.92334203,\n",
              "        5347094.49947664, 10500000.00000001,  5347094.49947664,\n",
              "        7102476.79410278,  1387135.70012022, 12635004.54109791,\n",
              "       12635004.54109791,  7913674.92334203, 13163451.31847771,\n",
              "       13163451.31847771, 17042334.87270955,  7913674.92334203,\n",
              "        6000788.69336132, 13163451.31847771,  5347094.49947664,\n",
              "        8629220.74609707, 13163451.31847771, 10500000.00000001,\n",
              "       13163451.31847771, 12635004.54109791,  6000788.69336132,\n",
              "        8629220.74609707,  7102476.79410278,  6000788.69336132,\n",
              "       13163451.31847771,  1387135.70012022,  8629220.74609707,\n",
              "        8629220.74609707,  8629220.74609707, 13163451.31847771,\n",
              "        6000788.69336132,  4326969.26172193, 10500000.00000001,\n",
              "        1387135.70012022,  4326969.26172193,  5347094.49947664,\n",
              "        6000788.69336132,  1387135.70012022, 10500000.00000001,\n",
              "       13163451.31847771,  1387135.70012022,  4326969.26172193,\n",
              "       12635004.54109791,  7102476.79410278, 10500000.00000001,\n",
              "        4326969.26172193,  7913674.92334203,  8629220.74609707,\n",
              "        1387135.70012022, 13163451.31847771,  5347094.49947664,\n",
              "       13163451.31847771,  7913674.92334203,  4326969.26172193,\n",
              "       10500000.00000001,  7913674.92334203, 10500000.00000001,\n",
              "        7102476.79410278,  8629220.74609707, 13163451.31847771,\n",
              "        7913674.92334203,  5347094.49947664, 10500000.00000001,\n",
              "       10500000.00000001,  7913674.92334203,  5347094.49947664,\n",
              "       10500000.00000001,  1387135.70012022,  7102476.79410278,\n",
              "       13163451.31847771,  4326969.26172193,  7102476.79410278,\n",
              "        7102476.79410278,  7102476.79410278,  7102476.79410278,\n",
              "       29878989.75260402, 17042334.87270955,  5347094.49947664,\n",
              "       47289085.50055341,  5347094.49947664,  5347094.49947664,\n",
              "        7913674.92334203, 10500000.00000001,  5347094.49947664,\n",
              "        8629220.74609707, 10500000.00000001,  4326969.26172193,\n",
              "        7913674.92334203,  5347094.49947664,  1387135.70012022,\n",
              "       13163451.31847771, 13163451.31847771,  7913674.92334203,\n",
              "        1387135.70012022,  5347094.49947664,  4326969.26172193,\n",
              "        7913674.92334203, 10500000.00000001,  6000788.69336132,\n",
              "       13163451.31847771,  8629220.74609707,  6000788.69336132,\n",
              "       13163451.31847771,  8629220.74609707, 12635004.54109791,\n",
              "        8629220.74609707,  1387135.70012022, 10500000.00000001,\n",
              "       12635004.54109791, 10500000.00000001, 10500000.00000001,\n",
              "       13163451.31847771,  7102476.79410278,  4326969.26172193,\n",
              "        7913674.92334203,  5347094.49947664, 13163451.31847771,\n",
              "       47289085.50055341, 12635004.54109791, 10500000.00000001,\n",
              "        4326969.26172193, 10500000.00000001,  6000788.69336132,\n",
              "       12635004.54109791, 12635004.54109791, 13163451.31847771,\n",
              "       10500000.00000001,  4326969.26172193,  7913674.92334203,\n",
              "        8629220.74609707,  1387135.70012022,  5347094.49947664,\n",
              "        4326969.26172193,  7913674.92334203,  1387135.70012022,\n",
              "        8629220.74609707, 13163451.31847771,  4326969.26172193,\n",
              "        7913674.92334203,  6000788.69336132,  7102476.79410278,\n",
              "        1387135.70012022,  7102476.79410278, 13163451.31847771,\n",
              "        7102476.79410278,  4326969.26172193,  1387135.70012022,\n",
              "        7913674.92334203, 12635004.54109791,  4326969.26172193,\n",
              "        8629220.74609707,  7102476.79410278,  4326969.26172193,\n",
              "        7102476.79410278,  5347094.49947664,  5347094.49947664,\n",
              "       13163451.31847771,  4326969.26172193, 13163451.31847771,\n",
              "       10500000.00000001,  1387135.70012022,  7102476.79410278,\n",
              "        5347094.49947664, 13163451.31847771,  8629220.74609707,\n",
              "       17042334.87270955,  7102476.79410278,  1387135.70012022,\n",
              "        8629220.74609707,  5347094.49947664,  7913674.92334203,\n",
              "       12635004.54109791,  7102476.79410278,  8629220.74609707,\n",
              "        6000788.69336132,  7102476.79410278,  7913674.92334203,\n",
              "        1387135.70012022,  1387135.70012022, 13163451.31847771,\n",
              "       10500000.00000001,  4326969.26172193,  6000788.69336132,\n",
              "       10500000.00000001, 10500000.00000001,  7102476.79410278,\n",
              "        1387135.70012022,  4326969.26172193,  7102476.79410278,\n",
              "        1387135.70012022,  7913674.92334203,  8629220.74609707,\n",
              "        8629220.74609707,  7913674.92334203, 13163451.31847771,\n",
              "       12635004.54109791, 10500000.00000001,  7102476.79410278,\n",
              "        1387135.70012022, 10500000.00000001,  7913674.92334203,\n",
              "       29878989.75260402,  4326969.26172193,  7102476.79410278,\n",
              "        8629220.74609707, 13163451.31847771,  6000788.69336132,\n",
              "        1387135.70012022, 13163451.31847771,  6000788.69336132,\n",
              "        6000788.69336132, 12635004.54109791,  6000788.69336132,\n",
              "        7102476.79410278, 10500000.00000001, 12635004.54109791,\n",
              "       10500000.00000001,  7913674.92334203,  7102476.79410278,\n",
              "        4326969.26172193,  7913674.92334203, 12635004.54109791,\n",
              "        7913674.92334203,  4326969.26172193,  1387135.70012022,\n",
              "        1387135.70012022,  8629220.74609707, 13163451.31847771,\n",
              "       13163451.31847771,  8629220.74609707,  5347094.49947664,\n",
              "        4326969.26172193, 10500000.00000001,  5347094.49947664,\n",
              "        6000788.69336132, 13163451.31847771,  7102476.79410278,\n",
              "        7913674.92334203,  5347094.49947664,  8629220.74609707,\n",
              "       12635004.54109791,  5347094.49947664, 10500000.00000001,\n",
              "        7102476.79410278, 10500000.00000001,  5347094.49947664,\n",
              "       12635004.54109791, 12635004.54109791,  4326969.26172193,\n",
              "        1387135.70012022, 10500000.00000001,  5347094.49947664,\n",
              "        1387135.70012022, 13163451.31847771,  7913674.92334203,\n",
              "       10500000.00000001,  1387135.70012022,  4326969.26172193,\n",
              "        8629220.74609707,  7913674.92334203,  7913674.92334203,\n",
              "       12635004.54109791,  5347094.49947664,  7913674.92334203,\n",
              "       12635004.54109791,  1387135.70012022,  1387135.70012022,\n",
              "       13163451.31847771,  5347094.49947664, 13163451.31847771,\n",
              "        1387135.70012022, 12635004.54109791, 13163451.31847771,\n",
              "        7913674.92334203,  5347094.49947664,  1387135.70012022,\n",
              "        1387135.70012022,  6000788.69336132,  7102476.79410278,\n",
              "       12635004.54109791,  7102476.79410278,  4326969.26172193,\n",
              "        5347094.49947664, 12635004.54109791,  8629220.74609707,\n",
              "       13163451.31847771, 12635004.54109791,  4326969.26172193,\n",
              "       13163451.31847771, 13163451.31847771, 10500000.00000001,\n",
              "       10500000.00000001, 29878989.75260402,  6000788.69336132,\n",
              "        5347094.49947664,  7913674.92334203,  4326969.26172193,\n",
              "        5347094.49947664,  5347094.49947664, 13163451.31847771,\n",
              "       12635004.54109791,  7913674.92334203,  4326969.26172193,\n",
              "        7102476.79410278,  5347094.49947664,  1387135.70012022,\n",
              "        5347094.49947664,  7102476.79410278,  8629220.74609707,\n",
              "        1387135.70012022, 29878989.75260402, 29878989.75260402,\n",
              "       13163451.31847771, 12635004.54109791,  8629220.74609707,\n",
              "        4326969.26172193,  1387135.70012022, 12635004.54109791,\n",
              "        4326969.26172193, 13163451.31847771,  5347094.49947664,\n",
              "        4326969.26172193, 10500000.00000001,  5347094.49947664,\n",
              "        6000788.69336132, 10500000.00000001, 13163451.31847771,\n",
              "        8629220.74609707,  7102476.79410278,  7913674.92334203,\n",
              "        8629220.74609707, 13163451.31847771,  6000788.69336132,\n",
              "        5347094.49947664,  7913674.92334203,  7913674.92334203,\n",
              "       13163451.31847771,  7102476.79410278,  4326969.26172193,\n",
              "        4326969.26172193,  6000788.69336132,  5347094.49947664,\n",
              "        4326969.26172193, 12635004.54109791,  7913674.92334203,\n",
              "       13163451.31847771,  8629220.74609707,  7102476.79410278,\n",
              "       12635004.54109791,  7102476.79410278,  5347094.49947664,\n",
              "        7102476.79410278,  7102476.79410278,  7913674.92334203,\n",
              "        1387135.70012022, 13163451.31847771,  4326969.26172193,\n",
              "        1387135.70012022,  7102476.79410278, 13163451.31847771,\n",
              "        7913674.92334203,  4326969.26172193,  4326969.26172193,\n",
              "        6000788.69336132,  4326969.26172193, 13163451.31847771,\n",
              "       12635004.54109791, 12635004.54109791,  8629220.74609707,\n",
              "        1387135.70012022,  6000788.69336132,  4326969.26172193,\n",
              "        4326969.26172193, 13163451.31847771,  6000788.69336132,\n",
              "       13163451.31847771, 13163451.31847771,  7913674.92334203,\n",
              "        5347094.49947664,  7913674.92334203, 10500000.00000001,\n",
              "        4326969.26172193, 12635004.54109791, 13163451.31847771,\n",
              "        7102476.79410278, 13163451.31847771,  4326969.26172193,\n",
              "        6000788.69336132,  6000788.69336132,  1387135.70012022,\n",
              "        1387135.70012022,  5347094.49947664, 13163451.31847771,\n",
              "        6000788.69336132,  1387135.70012022,  1387135.70012022,\n",
              "        6000788.69336132,  1387135.70012022, 10500000.00000001,\n",
              "        1387135.70012022,  5347094.49947664, 13163451.31847771,\n",
              "        8629220.74609707,  7913674.92334203,  4326969.26172193,\n",
              "       10500000.00000001, 12635004.54109791,  1387135.70012022,\n",
              "       13163451.31847771, 13163451.31847771, 12635004.54109791,\n",
              "       12635004.54109791,  8629220.74609707,  8629220.74609707,\n",
              "        6000788.69336132, 12635004.54109791,  5347094.49947664,\n",
              "        8629220.74609707,  7913674.92334203, 13163451.31847771,\n",
              "       13163451.31847771,  7102476.79410278])"
            ]
          },
          "execution_count": 43,
          "metadata": {},
          "output_type": "execute_result"
        }
      ],
      "source": [
        "y_predict"
      ]
    },
    {
      "cell_type": "code",
      "execution_count": null,
      "id": "8c311349",
      "metadata": {
        "id": "8c311349"
      },
      "outputs": [],
      "source": [
        "x=df.iloc[:,1:]\n",
        "y=model.coef_*x+model.intercept_"
      ]
    },
    {
      "cell_type": "code",
      "execution_count": null,
      "id": "378a2765",
      "metadata": {
        "id": "378a2765",
        "outputId": "75cb2b52-d4ea-489f-f256-3e62fe25376a"
      },
      "outputs": [
        {
          "data": {
            "text/plain": [
              "[<matplotlib.lines.Line2D at 0x768d509afc40>,\n",
              " <matplotlib.lines.Line2D at 0x768d509af580>,\n",
              " <matplotlib.lines.Line2D at 0x768d5a420b20>,\n",
              " <matplotlib.lines.Line2D at 0x768d50641ed0>,\n",
              " <matplotlib.lines.Line2D at 0x768d5066c730>,\n",
              " <matplotlib.lines.Line2D at 0x768d5066c700>]"
            ]
          },
          "execution_count": 35,
          "metadata": {},
          "output_type": "execute_result"
        },
        {
          "data": {
            "image/png": "[encoded data removed]",
            "text/plain": [
              "<Figure size 640x480 with 1 Axes>"
            ]
          },
          "metadata": {},
          "output_type": "display_data"
        }
      ],
      "source": [
        "plt.plot(x,y)"
      ]
    },
    {
      "cell_type": "code",
      "execution_count": null,
      "id": "66573e26",
      "metadata": {
        "id": "66573e26",
        "outputId": "bb68d411-e84f-4fdd-d3f6-4da37551c4d2"
      },
      "outputs": [
        {
          "data": {
            "text/plain": [
              "0.8668499140442857"
            ]
          },
          "execution_count": 40,
          "metadata": {},
          "output_type": "execute_result"
        }
      ],
      "source": [
        "r2_score(y_test,y_predict)"
      ]
    },
    {
      "cell_type": "code",
      "execution_count": null,
      "id": "6fcdd5ca",
      "metadata": {
        "id": "6fcdd5ca",
        "outputId": "9b708460-815a-4ce3-e9a9-de5895b634f8"
      },
      "outputs": [
        {
          "data": {
            "text/plain": [
              "1322766.2469953864"
            ]
          },
          "execution_count": 41,
          "metadata": {},
          "output_type": "execute_result"
        }
      ],
      "source": [
        "mean_absolute_error(y_test,y_predict)"
      ]
    },
    {
      "cell_type": "code",
      "execution_count": null,
      "id": "67a516ce",
      "metadata": {
        "id": "67a516ce",
        "outputId": "0547c63d-0dbb-4965-b0e8-dddadeea56e3"
      },
      "outputs": [
        {
          "data": {
            "text/plain": [
              "1904682.665702755"
            ]
          },
          "execution_count": 42,
          "metadata": {},
          "output_type": "execute_result"
        }
      ],
      "source": [
        "import math\n",
        "math.sqrt(mean_squared_error(y_test,y_predict))"
      ]
    }
  ],
  "metadata": {
    "kernelspec": {
      "display_name": "Python 3 (ipykernel)",
      "language": "python",
      "name": "python3"
    },
    "language_info": {
      "codemirror_mode": {
        "name": "ipython",
        "version": 3
      },
      "file_extension": ".py",
      "mimetype": "text/x-python",
      "name": "python",
      "nbconvert_exporter": "python",
      "pygments_lexer": "ipython3",
      "version": "3.10.14"
    },
    "colab": {
      "provenance": []
    }
  },
  "nbformat": 4,
  "nbformat_minor": 5
}